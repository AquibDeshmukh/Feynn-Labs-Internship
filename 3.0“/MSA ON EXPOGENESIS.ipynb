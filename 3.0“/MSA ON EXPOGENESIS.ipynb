{
 "cells": [
  {
   "cell_type": "markdown",
   "id": "9891822c",
   "metadata": {},
   "source": [
    "# Step 1: Load the dataset"
   ]
  },
  {
   "cell_type": "code",
   "execution_count": 26,
   "id": "ee4cafdf",
   "metadata": {},
   "outputs": [
    {
     "name": "stdout",
     "output_type": "stream",
     "text": [
      "<class 'pandas.core.frame.DataFrame'>\n",
      "RangeIndex: 8225871 entries, 0 to 8225870\n",
      "Data columns (total 10 columns):\n",
      " #   Column           Dtype  \n",
      "---  ------           -----  \n",
      " 0   country_or_area  object \n",
      " 1   year             int64  \n",
      " 2   comm_code        object \n",
      " 3   commodity        object \n",
      " 4   flow             object \n",
      " 5   trade_usd        int64  \n",
      " 6   weight_kg        float64\n",
      " 7   quantity_name    object \n",
      " 8   quantity         float64\n",
      " 9   category         object \n",
      "dtypes: float64(2), int64(2), object(6)\n",
      "memory usage: 627.6+ MB\n",
      "None\n",
      "  country_or_area  year comm_code  \\\n",
      "0     Afghanistan  2016    010410   \n",
      "1     Afghanistan  2016    010420   \n",
      "2     Afghanistan  2008    010210   \n",
      "3         Albania  2016    010290   \n",
      "4         Albania  2016    010392   \n",
      "\n",
      "                                         commodity    flow  trade_usd  \\\n",
      "0                                      Sheep, live  Export       6088   \n",
      "1                                      Goats, live  Export       3958   \n",
      "2          Bovine animals, live pure-bred breeding  Import    1026804   \n",
      "3  Bovine animals, live, except pure-bred breeding  Import    2414533   \n",
      "4    Swine, live except pure-bred breeding > 50 kg  Import   14265937   \n",
      "\n",
      "   weight_kg    quantity_name  quantity         category  \n",
      "0     2339.0  Number of items      51.0  01_live_animals  \n",
      "1      984.0  Number of items      53.0  01_live_animals  \n",
      "2      272.0  Number of items    3769.0  01_live_animals  \n",
      "3  1114023.0  Number of items    6853.0  01_live_animals  \n",
      "4  9484953.0  Number of items   96040.0  01_live_animals  \n"
     ]
    }
   ],
   "source": [
    "import pandas as pd\n",
    "# Adjust the file path to your specific location\n",
    "file_path = r'D:\\Feynn Labs\\3.0\\commodity_trade_statistics_data.csv'\n",
    "\n",
    "# Load the dataset\n",
    "data = pd.read_csv(file_path , dtype={'comm_code': str})\n",
    "\n",
    "# Display basic information about the dataset\n",
    "print(data.info())\n",
    "\n",
    "# Optionally, display the first few rows of the dataset\n",
    "print(data.head())\n"
   ]
  },
  {
   "cell_type": "markdown",
   "id": "d2b89429",
   "metadata": {},
   "source": [
    "# Step 2 Display summary statistics to understand numerical columns"
   ]
  },
  {
   "cell_type": "code",
   "execution_count": 27,
   "id": "c98d74c1",
   "metadata": {},
   "outputs": [
    {
     "name": "stdout",
     "output_type": "stream",
     "text": [
      "               year     trade_usd     weight_kg      quantity\n",
      "count  8.225871e+06  8.225871e+06  8.097396e+06  7.921014e+06\n",
      "mean   2.004768e+03  9.505370e+07  3.556503e+07  2.671470e+08\n",
      "std    7.037779e+00  7.074154e+09  2.479277e+09  3.739231e+11\n",
      "min    1.988000e+03  1.000000e+00  0.000000e+00  0.000000e+00\n",
      "25%    1.999000e+03  1.107200e+04  1.089000e+03  1.062000e+03\n",
      "50%    2.005000e+03  1.534160e+05  2.689800e+04  2.712000e+04\n",
      "75%    2.011000e+03  1.895476e+06  4.474432e+05  4.623620e+05\n",
      "max    2.016000e+03  2.443311e+12  1.860133e+12  1.026357e+15\n",
      "Unique values in 'country_or_area': 209\n",
      "Unique values in 'commodity': 5031\n",
      "Unique values in 'flow': ['Export' 'Import' 'Re-Export' 'Re-Import']\n"
     ]
    }
   ],
   "source": [
    "\n",
    "print(data.describe())\n",
    "\n",
    "# Display the unique values in categorical columns\n",
    "print(\"Unique values in 'country_or_area':\", data['country_or_area'].nunique())\n",
    "print(\"Unique values in 'commodity':\", data['commodity'].nunique())\n",
    "print(\"Unique values in 'flow':\", data['flow'].unique())\n"
   ]
  },
  {
   "cell_type": "markdown",
   "id": "f65ab1e4",
   "metadata": {},
   "source": [
    "# step 3 Filter out data with trade value above 1,000,000 USD for focused analysis"
   ]
  },
  {
   "cell_type": "code",
   "execution_count": 28,
   "id": "b789fd43",
   "metadata": {},
   "outputs": [
    {
     "data": {
      "text/html": [
       "<div>\n",
       "<style scoped>\n",
       "    .dataframe tbody tr th:only-of-type {\n",
       "        vertical-align: middle;\n",
       "    }\n",
       "\n",
       "    .dataframe tbody tr th {\n",
       "        vertical-align: top;\n",
       "    }\n",
       "\n",
       "    .dataframe thead th {\n",
       "        text-align: right;\n",
       "    }\n",
       "</style>\n",
       "<table border=\"1\" class=\"dataframe\">\n",
       "  <thead>\n",
       "    <tr style=\"text-align: right;\">\n",
       "      <th></th>\n",
       "      <th>country_or_area</th>\n",
       "      <th>commodity</th>\n",
       "      <th>flow</th>\n",
       "      <th>trade_usd</th>\n",
       "    </tr>\n",
       "  </thead>\n",
       "  <tbody>\n",
       "    <tr>\n",
       "      <th>209225</th>\n",
       "      <td>USA</td>\n",
       "      <td>ALL COMMODITIES</td>\n",
       "      <td>Import</td>\n",
       "      <td>38617723319661</td>\n",
       "    </tr>\n",
       "    <tr>\n",
       "      <th>116314</th>\n",
       "      <td>EU-28</td>\n",
       "      <td>ALL COMMODITIES</td>\n",
       "      <td>Import</td>\n",
       "      <td>27753303797737</td>\n",
       "    </tr>\n",
       "    <tr>\n",
       "      <th>116313</th>\n",
       "      <td>EU-28</td>\n",
       "      <td>ALL COMMODITIES</td>\n",
       "      <td>Export</td>\n",
       "      <td>25777954737910</td>\n",
       "    </tr>\n",
       "    <tr>\n",
       "      <th>209224</th>\n",
       "      <td>USA</td>\n",
       "      <td>ALL COMMODITIES</td>\n",
       "      <td>Export</td>\n",
       "      <td>24776128102075</td>\n",
       "    </tr>\n",
       "    <tr>\n",
       "      <th>141651</th>\n",
       "      <td>Germany</td>\n",
       "      <td>ALL COMMODITIES</td>\n",
       "      <td>Export</td>\n",
       "      <td>23487732940918</td>\n",
       "    </tr>\n",
       "  </tbody>\n",
       "</table>\n",
       "</div>"
      ],
      "text/plain": [
       "       country_or_area        commodity    flow       trade_usd\n",
       "209225             USA  ALL COMMODITIES  Import  38617723319661\n",
       "116314           EU-28  ALL COMMODITIES  Import  27753303797737\n",
       "116313           EU-28  ALL COMMODITIES  Export  25777954737910\n",
       "209224             USA  ALL COMMODITIES  Export  24776128102075\n",
       "141651         Germany  ALL COMMODITIES  Export  23487732940918"
      ]
     },
     "execution_count": 28,
     "metadata": {},
     "output_type": "execute_result"
    }
   ],
   "source": [
    "\n",
    "filtered_data = data[data['trade_usd'] > 1e6]\n",
    "\n",
    "# Group by country, commodity, and trade flow to get total trade value\n",
    "segment_data = filtered_data.groupby(['country_or_area', 'commodity', 'flow'])['trade_usd'].sum().reset_index()\n",
    "\n",
    "# Sort to find the top segments by trade value\n",
    "top_segments = segment_data.sort_values(by='trade_usd', ascending=False).head(100)\n",
    "\n",
    "# Display the top segments\n",
    "top_segments.head()\n"
   ]
  },
  {
   "cell_type": "code",
   "execution_count": 30,
   "id": "6436e9bd",
   "metadata": {},
   "outputs": [
    {
     "data": {
      "text/html": [
       "<div>\n",
       "<style scoped>\n",
       "    .dataframe tbody tr th:only-of-type {\n",
       "        vertical-align: middle;\n",
       "    }\n",
       "\n",
       "    .dataframe tbody tr th {\n",
       "        vertical-align: top;\n",
       "    }\n",
       "\n",
       "    .dataframe thead th {\n",
       "        text-align: right;\n",
       "    }\n",
       "</style>\n",
       "<table border=\"1\" class=\"dataframe\">\n",
       "  <thead>\n",
       "    <tr style=\"text-align: right;\">\n",
       "      <th></th>\n",
       "      <th>country_or_area</th>\n",
       "      <th>commodity</th>\n",
       "      <th>flow</th>\n",
       "      <th>trade_usd</th>\n",
       "    </tr>\n",
       "  </thead>\n",
       "  <tbody>\n",
       "    <tr>\n",
       "      <th>119041</th>\n",
       "      <td>EU-28</td>\n",
       "      <td>Petroleum oils, oils from bituminous minerals,...</td>\n",
       "      <td>Import</td>\n",
       "      <td>4054149631408</td>\n",
       "    </tr>\n",
       "    <tr>\n",
       "      <th>165476</th>\n",
       "      <td>Japan</td>\n",
       "      <td>Petroleum oils, oils from bituminous minerals,...</td>\n",
       "      <td>Import</td>\n",
       "      <td>1843108968718</td>\n",
       "    </tr>\n",
       "    <tr>\n",
       "      <th>88259</th>\n",
       "      <td>China</td>\n",
       "      <td>Petroleum oils, oils from bituminous minerals,...</td>\n",
       "      <td>Import</td>\n",
       "      <td>1782125415675</td>\n",
       "    </tr>\n",
       "    <tr>\n",
       "      <th>211479</th>\n",
       "      <td>United Arab Emirates</td>\n",
       "      <td>Commodities not specified according to kind</td>\n",
       "      <td>Export</td>\n",
       "      <td>1703044771641</td>\n",
       "    </tr>\n",
       "    <tr>\n",
       "      <th>209544</th>\n",
       "      <td>USA</td>\n",
       "      <td>Commodities not specified according to kind</td>\n",
       "      <td>Export</td>\n",
       "      <td>1527730390609</td>\n",
       "    </tr>\n",
       "    <tr>\n",
       "      <th>117242</th>\n",
       "      <td>EU-28</td>\n",
       "      <td>Commodities not specified according to kind</td>\n",
       "      <td>Export</td>\n",
       "      <td>1464597507165</td>\n",
       "    </tr>\n",
       "    <tr>\n",
       "      <th>117243</th>\n",
       "      <td>EU-28</td>\n",
       "      <td>Commodities not specified according to kind</td>\n",
       "      <td>Import</td>\n",
       "      <td>1285312900196</td>\n",
       "    </tr>\n",
       "    <tr>\n",
       "      <th>209545</th>\n",
       "      <td>USA</td>\n",
       "      <td>Commodities not specified according to kind</td>\n",
       "      <td>Import</td>\n",
       "      <td>1271877333843</td>\n",
       "    </tr>\n",
       "    <tr>\n",
       "      <th>142433</th>\n",
       "      <td>Germany</td>\n",
       "      <td>Commodities not specified according to kind</td>\n",
       "      <td>Export</td>\n",
       "      <td>1255477261443</td>\n",
       "    </tr>\n",
       "    <tr>\n",
       "      <th>142434</th>\n",
       "      <td>Germany</td>\n",
       "      <td>Commodities not specified according to kind</td>\n",
       "      <td>Import</td>\n",
       "      <td>1222406513324</td>\n",
       "    </tr>\n",
       "  </tbody>\n",
       "</table>\n",
       "</div>"
      ],
      "text/plain": [
       "             country_or_area  \\\n",
       "119041                 EU-28   \n",
       "165476                 Japan   \n",
       "88259                  China   \n",
       "211479  United Arab Emirates   \n",
       "209544                   USA   \n",
       "117242                 EU-28   \n",
       "117243                 EU-28   \n",
       "209545                   USA   \n",
       "142433               Germany   \n",
       "142434               Germany   \n",
       "\n",
       "                                                commodity    flow  \\\n",
       "119041  Petroleum oils, oils from bituminous minerals,...  Import   \n",
       "165476  Petroleum oils, oils from bituminous minerals,...  Import   \n",
       "88259   Petroleum oils, oils from bituminous minerals,...  Import   \n",
       "211479        Commodities not specified according to kind  Export   \n",
       "209544        Commodities not specified according to kind  Export   \n",
       "117242        Commodities not specified according to kind  Export   \n",
       "117243        Commodities not specified according to kind  Import   \n",
       "209545        Commodities not specified according to kind  Import   \n",
       "142433        Commodities not specified according to kind  Export   \n",
       "142434        Commodities not specified according to kind  Import   \n",
       "\n",
       "            trade_usd  \n",
       "119041  4054149631408  \n",
       "165476  1843108968718  \n",
       "88259   1782125415675  \n",
       "211479  1703044771641  \n",
       "209544  1527730390609  \n",
       "117242  1464597507165  \n",
       "117243  1285312900196  \n",
       "209545  1271877333843  \n",
       "142433  1255477261443  \n",
       "142434  1222406513324  "
      ]
     },
     "execution_count": 30,
     "metadata": {},
     "output_type": "execute_result"
    }
   ],
   "source": [
    "# Filter out rows where the commodity is listed as \"ALL COMMODITIES\"\n",
    "filtered_specific_commodities = top_segments[top_segments['commodity'] != \"ALL COMMODITIES\"]\n",
    "\n",
    "# Display the top segments with specific commodities\n",
    "filtered_specific_commodities.head(10)"
   ]
  },
  {
   "cell_type": "code",
   "execution_count": 31,
   "id": "a47bd1b4",
   "metadata": {},
   "outputs": [
    {
     "data": {
      "text/html": [
       "<div>\n",
       "<style scoped>\n",
       "    .dataframe tbody tr th:only-of-type {\n",
       "        vertical-align: middle;\n",
       "    }\n",
       "\n",
       "    .dataframe tbody tr th {\n",
       "        vertical-align: top;\n",
       "    }\n",
       "\n",
       "    .dataframe thead th {\n",
       "        text-align: right;\n",
       "    }\n",
       "</style>\n",
       "<table border=\"1\" class=\"dataframe\">\n",
       "  <thead>\n",
       "    <tr style=\"text-align: right;\">\n",
       "      <th></th>\n",
       "      <th>country_or_area</th>\n",
       "      <th>commodity</th>\n",
       "      <th>trade_usd</th>\n",
       "    </tr>\n",
       "  </thead>\n",
       "  <tbody>\n",
       "    <tr>\n",
       "      <th>3</th>\n",
       "      <td>EU-28</td>\n",
       "      <td>Petroleum oils, oils from bituminous minerals,...</td>\n",
       "      <td>4.054150e+12</td>\n",
       "    </tr>\n",
       "    <tr>\n",
       "      <th>6</th>\n",
       "      <td>Japan</td>\n",
       "      <td>Petroleum oils, oils from bituminous minerals,...</td>\n",
       "      <td>1.843109e+12</td>\n",
       "    </tr>\n",
       "    <tr>\n",
       "      <th>0</th>\n",
       "      <td>China</td>\n",
       "      <td>Petroleum oils, oils from bituminous minerals,...</td>\n",
       "      <td>1.782125e+12</td>\n",
       "    </tr>\n",
       "    <tr>\n",
       "      <th>8</th>\n",
       "      <td>United Arab Emirates</td>\n",
       "      <td>Commodities not specified according to kind</td>\n",
       "      <td>1.419280e+12</td>\n",
       "    </tr>\n",
       "    <tr>\n",
       "      <th>7</th>\n",
       "      <td>USA</td>\n",
       "      <td>Commodities not specified according to kind</td>\n",
       "      <td>1.399804e+12</td>\n",
       "    </tr>\n",
       "    <tr>\n",
       "      <th>1</th>\n",
       "      <td>EU-28</td>\n",
       "      <td>Commodities not specified according to kind</td>\n",
       "      <td>1.374955e+12</td>\n",
       "    </tr>\n",
       "    <tr>\n",
       "      <th>4</th>\n",
       "      <td>Germany</td>\n",
       "      <td>Commodities not specified according to kind</td>\n",
       "      <td>1.238942e+12</td>\n",
       "    </tr>\n",
       "    <tr>\n",
       "      <th>5</th>\n",
       "      <td>India</td>\n",
       "      <td>Petroleum oils, oils from bituminous minerals,...</td>\n",
       "      <td>1.198030e+12</td>\n",
       "    </tr>\n",
       "    <tr>\n",
       "      <th>2</th>\n",
       "      <td>EU-28</td>\n",
       "      <td>Oils petroleum, bituminous, distillates, excep...</td>\n",
       "      <td>1.078117e+12</td>\n",
       "    </tr>\n",
       "  </tbody>\n",
       "</table>\n",
       "</div>"
      ],
      "text/plain": [
       "        country_or_area                                          commodity  \\\n",
       "3                 EU-28  Petroleum oils, oils from bituminous minerals,...   \n",
       "6                 Japan  Petroleum oils, oils from bituminous minerals,...   \n",
       "0                 China  Petroleum oils, oils from bituminous minerals,...   \n",
       "8  United Arab Emirates        Commodities not specified according to kind   \n",
       "7                   USA        Commodities not specified according to kind   \n",
       "1                 EU-28        Commodities not specified according to kind   \n",
       "4               Germany        Commodities not specified according to kind   \n",
       "5                 India  Petroleum oils, oils from bituminous minerals,...   \n",
       "2                 EU-28  Oils petroleum, bituminous, distillates, excep...   \n",
       "\n",
       "      trade_usd  \n",
       "3  4.054150e+12  \n",
       "6  1.843109e+12  \n",
       "0  1.782125e+12  \n",
       "8  1.419280e+12  \n",
       "7  1.399804e+12  \n",
       "1  1.374955e+12  \n",
       "4  1.238942e+12  \n",
       "5  1.198030e+12  \n",
       "2  1.078117e+12  "
      ]
     },
     "execution_count": 31,
     "metadata": {},
     "output_type": "execute_result"
    }
   ],
   "source": [
    "# Group by country and commodity to find the average trade value for each segment\n",
    "key_segments = filtered_specific_commodities.groupby(['country_or_area', 'commodity'])['trade_usd'].mean().reset_index()\n",
    "\n",
    "# Sort the segments by trade value to find the highest-value segments for each country\n",
    "key_segments = key_segments.sort_values(by='trade_usd', ascending=False).head(10)\n",
    "\n",
    "# Display the top key segments\n",
    "key_segments\n"
   ]
  },
  {
   "cell_type": "markdown",
   "id": "dbeff579",
   "metadata": {},
   "source": [
    "# Step 4 Visualize Key Segments by Trade Value"
   ]
  },
  {
   "cell_type": "code",
   "execution_count": 33,
   "id": "f50d3db7",
   "metadata": {},
   "outputs": [
    {
     "data": {
      "image/png": "[encoded data removed]",
      "text/plain": [
       "<Figure size 1200x800 with 1 Axes>"
      ]
     },
     "metadata": {},
     "output_type": "display_data"
    }
   ],
   "source": [
    "\n",
    "import matplotlib.pyplot as plt\n",
    "import seaborn as sns\n",
    "\n",
    "# Set plot size and style\n",
    "plt.figure(figsize=(12, 8))\n",
    "sns.set_style(\"whitegrid\")\n",
    "\n",
    "# Plot the top key segments\n",
    "sns.barplot(\n",
    "    x=\"trade_usd\", \n",
    "    y=\"commodity\", \n",
    "    hue=\"country_or_area\", \n",
    "    data=key_segments, \n",
    "    dodge=False\n",
    ")\n",
    "\n",
    "# Add labels and title\n",
    "plt.xlabel(\"Trade Value in USD\")\n",
    "plt.ylabel(\"Commodity\")\n",
    "plt.title(\"Top Commodities by Trade Value Across Countries\")\n",
    "plt.legend(title=\"Country\")\n",
    "plt.show()\n"
   ]
  },
  {
   "cell_type": "code",
   "execution_count": 39,
   "id": "e65dcc9f",
   "metadata": {},
   "outputs": [
    {
     "name": "stdout",
     "output_type": "stream",
     "text": [
      "[[-0.0134359 ]\n",
      " [-0.0134362 ]\n",
      " [-0.01329161]\n",
      " [-0.01309544]\n",
      " [-0.01142013]]\n"
     ]
    }
   ],
   "source": [
    "#reprocess Data for Clustering\n",
    "from sklearn.preprocessing import StandardScaler\n",
    "\n",
    "# Selecting the relevant features for clustering\n",
    "clustering_data = data[['trade_usd']]\n",
    "\n",
    "# Scaling the data to normalize trade values\n",
    "scaler = StandardScaler()\n",
    "clustering_data_scaled = scaler.fit_transform(clustering_data)\n",
    "# Display a sample of the scaled data\n",
    "print(clustering_data_scaled[:5])\n",
    "\n"
   ]
  },
  {
   "cell_type": "markdown",
   "id": "258bb93a",
   "metadata": {},
   "source": [
    "# Step 5 Clustering"
   ]
  },
  {
   "cell_type": "code",
   "execution_count": 40,
   "id": "2545b912",
   "metadata": {},
   "outputs": [
    {
     "name": "stderr",
     "output_type": "stream",
     "text": [
      "C:\\Users\\ASUS\\anaconda3\\Lib\\site-packages\\sklearn\\cluster\\_kmeans.py:1412: FutureWarning: The default value of `n_init` will change from 10 to 'auto' in 1.4. Set the value of `n_init` explicitly to suppress the warning\n",
      "  super()._check_params_vs_input(X, default_n_init=10)\n"
     ]
    },
    {
     "name": "stdout",
     "output_type": "stream",
     "text": [
      "  country_or_area                                        commodity  trade_usd  \\\n",
      "0     Afghanistan                                      Sheep, live       6088   \n",
      "1     Afghanistan                                      Goats, live       3958   \n",
      "2     Afghanistan          Bovine animals, live pure-bred breeding    1026804   \n",
      "3         Albania  Bovine animals, live, except pure-bred breeding    2414533   \n",
      "4         Albania    Swine, live except pure-bred breeding > 50 kg   14265937   \n",
      "\n",
      "   cluster  \n",
      "0        0  \n",
      "1        0  \n",
      "2        0  \n",
      "3        0  \n",
      "4        0  \n"
     ]
    }
   ],
   "source": [
    "#Apply K-Means Clustering\n",
    "from sklearn.cluster import KMeans\n",
    "\n",
    "# Define the number of clusters\n",
    "n_clusters = 3\n",
    "\n",
    "# Initialize KMeans with the specified number of clusters\n",
    "kmeans = KMeans(n_clusters=n_clusters, random_state=42)\n",
    "\n",
    "# Fit the model to the scaled data\n",
    "kmeans.fit(clustering_data_scaled)\n",
    "\n",
    "# Get the cluster labels\n",
    "clusters = kmeans.labels_\n",
    "\n",
    "# Add the cluster labels to the original data\n",
    "data['cluster'] = clusters\n",
    "\n",
    "# Display the first few rows of the updated DataFrame\n",
    "print(data[['country_or_area', 'commodity', 'trade_usd', 'cluster']].head())\n"
   ]
  },
  {
   "cell_type": "code",
   "execution_count": 41,
   "id": "ee5461ca",
   "metadata": {},
   "outputs": [
    {
     "name": "stdout",
     "output_type": "stream",
     "text": [
      "   cluster    count\n",
      "0        0  8225068\n",
      "1        2      711\n",
      "2        1       92\n",
      "   cluster  average_trade_usd\n",
      "0        0       4.317289e+07\n",
      "1        1       1.651024e+12\n",
      "2        2       3.866459e+11\n"
     ]
    }
   ],
   "source": [
    " #Analyze the Clustering Results\n",
    "# Count the number of entries in each cluster\n",
    "cluster_distribution = data['cluster'].value_counts().reset_index()\n",
    "cluster_distribution.columns = ['cluster', 'count']\n",
    "\n",
    "# Display the distribution of clusters\n",
    "print(cluster_distribution)\n",
    "\n",
    "# Optionally, view the average trade_usd per cluster\n",
    "average_trade_per_cluster = data.groupby('cluster')['trade_usd'].mean().reset_index()\n",
    "average_trade_per_cluster.columns = ['cluster', 'average_trade_usd']\n",
    "\n",
    "# Display the average trade value per cluster\n",
    "print(average_trade_per_cluster)\n"
   ]
  },
  {
   "cell_type": "code",
   "execution_count": 48,
   "id": "d2fd3665",
   "metadata": {},
   "outputs": [
    {
     "data": {
      "image/png": "[encoded data removed]",
      "text/plain": [
       "<Figure size 1000x600 with 1 Axes>"
      ]
     },
     "metadata": {},
     "output_type": "display_data"
    }
   ],
   "source": [
    "#Visuaize the cluster data\n",
    "import matplotlib.pyplot as plt\n",
    "import seaborn as sns\n",
    "import pandas as pd\n",
    "\n",
    "# Assuming you already have cluster_summary DataFrame from previous steps\n",
    "cluster_summary = pd.DataFrame({\n",
    "    'cluster': [0, 1, 2],\n",
    "    'average_trade_usd': [4.317289e+07, 1.651024e+12, 3.866459e+11]\n",
    "})\n",
    "\n",
    "# Plotting with logarithmic scale\n",
    "plt.figure(figsize=(10, 6))\n",
    "sns.barplot(data=cluster_summary, x='cluster', y='average_trade_usd', palette='viridis')\n",
    "plt.yscale('log')  # Set y-axis to logarithmic scale\n",
    "plt.title('Average Trade Value by Cluster (Log Scale)')\n",
    "plt.xlabel('Cluster')\n",
    "plt.ylabel('Average Trade Value (in USD, Log Scale)')\n",
    "plt.xticks(rotation=0)\n",
    "plt.grid(axis='y')\n",
    "plt.show()\n",
    "\n",
    "\n"
   ]
  },
  {
   "cell_type": "code",
   "execution_count": 49,
   "id": "41dfcf34",
   "metadata": {},
   "outputs": [
    {
     "name": "stdout",
     "output_type": "stream",
     "text": [
      "   cluster                                        commodity  total_trade_usd\n",
      "4        0    Swine, live except pure-bred breeding > 50 kg         14265937\n",
      "1        0  Bovine animals, live, except pure-bred breeding          2414533\n",
      "0        0          Bovine animals, live pure-bred breeding          1026804\n",
      "3        0                                      Sheep, live             6088\n",
      "2        0                                      Goats, live             3958\n"
     ]
    }
   ],
   "source": [
    "#display key commodities in each cluster\n",
    "# Get top commodities in each cluster\n",
    "top_commodities = cluster_data.groupby(['cluster', 'commodity']).agg(\n",
    "    total_trade_usd=('trade_usd', 'sum')\n",
    ").reset_index()\n",
    "\n",
    "# Get the top 5 commodities per cluster\n",
    "top_commodities = top_commodities.sort_values(['cluster', 'total_trade_usd'], ascending=[True, False])\n",
    "top_commodities = top_commodities.groupby('cluster').head(5)\n",
    "\n",
    "# Display the top commodities\n",
    "print(top_commodities)\n"
   ]
  },
  {
   "cell_type": "markdown",
   "id": "ed1d179e",
   "metadata": {},
   "source": [
    "## Step 6 Insights from Cluster Analysis\n",
    "\n",
    "#Cluster 0: This cluster contains the majority of trade records (8,225,068) with an average trade value of $43,172,890. The commodities in this cluster primarily consist of low-value items.\n",
    "\n",
    "#Cluster 1: With only 92 records, this cluster shows a significantly higher average trade value of $1,651,024,000, indicating it includes high-value commodities.\n",
    "\n",
    "#Cluster 2: This cluster has a moderate average trade value of $386,645,900, consisting of a mix of various commodity types.\n"
   ]
  },
  {
   "cell_type": "code",
   "execution_count": null,
   "id": "5b3ceccd",
   "metadata": {},
   "outputs": [],
   "source": [
    "# Recommendations based on Market Segmentation Analysis\n",
    "##1. Targeted Marketing Strategies\n",
    "##  - Focus on high-value commodities in Cluster 1.\n",
    "##   - Develop tailored promotions for each cluster.\n",
    "\n",
    "# 2. Resource Allocation\n",
    "##   - Invest in markets identified in Cluster 1.\n",
    "##   - Monitor emerging trends in Clusters 2 and 0.\n",
    "\n",
    "# 3. Supply Chain Optimization\n",
    "##    - Enhance supply chain efficiency for high-demand commodities.\n",
    "##    - Diversify suppliers to mitigate risks.\n",
    "\n",
    "# 4. Customer Relationship Management\n",
    "##    - Develop stronger relationships with key players in high-value markets.\n",
    "##    - Implement feedback mechanisms to understand customer needs.\n",
    "\n",
    "# 5. Market Research and Adaptation\n",
    "##    - Regularly update market segmentation analyses.\n",
    "##    - Stay informed about regulatory changes impacting trade.\n",
    "\n",
    "# 6. Sustainability and Ethics\n",
    "##    - Promote sustainable practices in sourcing and marketing.\n",
    "\n",
    "# 7. Collaborations and Partnerships\n",
    "##    - Explore partnerships with local distributors for better market penetration.\n"
   ]
  },
  {
   "cell_type": "code",
   "execution_count": null,
   "id": "827aedbd",
   "metadata": {},
   "outputs": [],
   "source": []
  },
  {
   "cell_type": "code",
   "execution_count": null,
   "id": "3598aad4",
   "metadata": {},
   "outputs": [],
   "source": []
  },
  {
   "cell_type": "code",
   "execution_count": null,
   "id": "6d3fa0be",
   "metadata": {},
   "outputs": [],
   "source": []
  }
 ],
 "metadata": {
  "kernelspec": {
   "display_name": "Python 3 (ipykernel)",
   "language": "python",
   "name": "python3"
  },
  "language_info": {
   "codemirror_mode": {
    "name": "ipython",
    "version": 3
   },
   "file_extension": ".py",
   "mimetype": "text/x-python",
   "name": "python",
   "nbconvert_exporter": "python",
   "pygments_lexer": "ipython3",
   "version": "3.11.5"
  }
 },
 "nbformat": 4,
 "nbformat_minor": 5
}
